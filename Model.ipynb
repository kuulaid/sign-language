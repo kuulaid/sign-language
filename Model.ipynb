{
 "cells": [
  {
   "cell_type": "code",
   "execution_count": null,
   "id": "f10352ef-d2ae-459a-927c-a970c4c5e6fa",
   "metadata": {},
   "outputs": [],
   "source": [
    "import cv2\n",
    "import numpy as np\n",
    "import os\n",
    "from matplotlib import pyplot as plt\n",
    "import time\n",
    "import mediapipe as mp"
   ]
  },
  {
   "cell_type": "code",
   "execution_count": null,
   "id": "b81ba079-3197-4ea1-aad3-57235b647fdf",
   "metadata": {},
   "outputs": [],
   "source": [
    "mp_holistic = mp.solutions.holistic # For detection\n",
    "mp_drawing = mp.solutions.drawing_utils\n",
    "mp_face_mesh = mp.solutions.face_mesh "
   ]
  },
  {
   "cell_type": "code",
   "execution_count": null,
   "id": "89e90b6c-bc7f-4761-ae80-fa6285f977eb",
   "metadata": {},
   "outputs": [],
   "source": [
    "def mediapipe_detection(image, model):\n",
    "    image = cv2.cvtColor(image, cv2.COLOR_BGR2RGB)\n",
    "    image.flags.writeable = False\n",
    "    results =  model.process(image)  #Make Prediction\n",
    "    image.flags.writeable = False\n",
    "    image = cv2.cvtColor(image, cv2.COLOR_RGB2BGR)\n",
    "    return image, results"
   ]
  },
  {
   "cell_type": "code",
   "execution_count": null,
   "id": "3170df62-98de-406d-bad5-34a4b4b5900a",
   "metadata": {},
   "outputs": [],
   "source": [
    "def draw_landmarks(image, results):\n",
    "    mp_drawing.draw_landmarks(image, results.face_landmarks, mp_face_mesh.FACEMESH_TESSELATION)\n",
    "    mp_drawing.draw_landmarks(image, results.pose_landmarks, mp_holistic.POSE_CONNECTIONS)\n",
    "    mp_drawing.draw_landmarks(image, results.left_hand_landmarks, mp_holistic.HAND_CONNECTIONS)\n",
    "    mp_drawing.draw_landmarks(image, results.right_hand_landmarks, mp_holistic.HAND_CONNECTIONS)"
   ]
  },
  {
   "cell_type": "code",
   "execution_count": null,
   "id": "9bd8a477-5661-4cc8-b60e-f84a16fd4bc4",
   "metadata": {},
   "outputs": [],
   "source": [
    "def draw_styled_landmarks(image, results):\n",
    "    if results.face_landmarks:\n",
    "        mp_drawing.draw_landmarks(\n",
    "            image, \n",
    "            results.face_landmarks, \n",
    "            mp_face_mesh.FACEMESH_TESSELATION,\n",
    "            mp_drawing.DrawingSpec(color=(150, 150, 150), thickness=1, circle_radius=1),  # gray nodes\n",
    "            mp_drawing.DrawingSpec(color=(0, 255, 255), thickness=1)  # white mesh lines\n",
    "        )\n",
    "\n",
    "    if results.pose_landmarks:\n",
    "        mp_drawing.draw_landmarks(\n",
    "            image, results.pose_landmarks, mp_holistic.POSE_CONNECTIONS,\n",
    "            mp_drawing.DrawingSpec(color=(0, 255, 255), thickness=2, circle_radius=3),  # white joints\n",
    "            mp_drawing.DrawingSpec(color=(0, 255, 0), thickness=1, circle_radius=2)      # bright green lines\n",
    "        )\n",
    "    \n",
    "    if results.left_hand_landmarks:\n",
    "        mp_drawing.draw_landmarks(\n",
    "            image, results.left_hand_landmarks, mp_holistic.HAND_CONNECTIONS,\n",
    "            mp_drawing.DrawingSpec(color=(255, 0, 0), thickness=2, circle_radius=3),    # red joints\n",
    "            mp_drawing.DrawingSpec(color=(200, 100, 100), thickness=1, circle_radius=2) # muted red lines\n",
    "        )\n",
    "    \n",
    "    if results.right_hand_landmarks:\n",
    "        mp_drawing.draw_landmarks(\n",
    "            image, results.right_hand_landmarks, mp_holistic.HAND_CONNECTIONS,\n",
    "            mp_drawing.DrawingSpec(color=(0, 120, 255), thickness=2, circle_radius=3),  # blue joints\n",
    "            mp_drawing.DrawingSpec(color=(100, 180, 255), thickness=1, circle_radius=2) # soft blue lines\n",
    "        )\n"
   ]
  },
  {
   "cell_type": "code",
   "execution_count": null,
   "id": "9229c0a8-0868-4f6a-ba37-f3706f171a95",
   "metadata": {},
   "outputs": [],
   "source": []
  },
  {
   "cell_type": "code",
   "execution_count": null,
   "id": "782aeb60-6ad2-4200-8c39-6685296a46f2",
   "metadata": {},
   "outputs": [],
   "source": [
    "print(\"Checking for pose landmarks...\")\n",
    "print(\"pose_landmarks:\", results.pose_landmarks)\n"
   ]
  },
  {
   "cell_type": "code",
   "execution_count": null,
   "id": "6426dd83-c93a-4f09-815a-c0fd9c427c98",
   "metadata": {},
   "outputs": [],
   "source": [
    "\n",
    "\n",
    "len(results.face_landmarks.landmark)\n",
    "\n"
   ]
  },
  {
   "cell_type": "code",
   "execution_count": null,
   "id": "d5059510-94ad-493d-993f-e0220108fc4a",
   "metadata": {},
   "outputs": [],
   "source": [
    "def extract_keypoints(results):\n",
    "\n",
    "    pose = (\n",
    "        np.array([[res.x, res.y, res.z, res.visibility] for res in results.pose_landmarks.landmark]).flatten()\n",
    "        if results.pose_landmarks\n",
    "        else np.zeros(132)\n",
    "    )\n",
    "    \n",
    "    face = (\n",
    "        np.array([[res.x, res.y, res.z] for res in results.face_landmarks.landmark]).flatten()\n",
    "        if results.face_landmarks\n",
    "        else np.zeros(1404)\n",
    "    )\n",
    "    \n",
    "    left_hand = (\n",
    "        np.array([[res.x, res.y, res.z] for res in results.left_hand_landmarks.landmark]).flatten()\n",
    "        if results.left_hand_landmarks\n",
    "        else np.zeros(21 * 3)\n",
    "    )\n",
    "    \n",
    "    right_hand = (\n",
    "        np.array([[res.x, res.y, res.z] for res in results.right_hand_landmarks.landmark]).flatten()\n",
    "        if results.right_hand_landmarks\n",
    "        else np.zeros(21 * 3)\n",
    "    )\n",
    "\n",
    "    return np.concatenate([pose, face, left_hand, right_hand])\n",
    "\n"
   ]
  },
  {
   "cell_type": "code",
   "execution_count": null,
   "id": "4f1ed22e-9d1d-4f0f-9995-54de779cce59",
   "metadata": {},
   "outputs": [],
   "source": [
    "extract_keypoints(results).shape"
   ]
  },
  {
   "cell_type": "code",
   "execution_count": null,
   "id": "ba99f088-20e1-4a2e-808d-74349a30cb26",
   "metadata": {},
   "outputs": [],
   "source": [
    "DATA_PATH = os.path.join('MP_Data') # Path for exported data -> numpy arrays\n",
    "\n",
    "actions = np.array(['hello', 'thanks', 'iloveyou'])\n",
    "no_sequences = 30\n",
    "sequence_length = 30"
   ]
  },
  {
   "cell_type": "code",
   "execution_count": null,
   "id": "5d41211e-03a4-44ef-897b-174782ee77be",
   "metadata": {},
   "outputs": [],
   "source": [
    "for action in actions:\n",
    "    for sequence in range(no_sequences):\n",
    "        try:\n",
    "            os.makedirs(os.path.join(DATA_PATH, action, str(sequence)))\n",
    "        except:\n",
    "            pass"
   ]
  },
  {
   "cell_type": "code",
   "execution_count": null,
   "id": "9ef875e2-4126-426f-a106-b5b9451aab37",
   "metadata": {},
   "outputs": [],
   "source": [
    "cap = cv2.VideoCapture(0)\n",
    "with mp_holistic.Holistic(min_detection_confidence=0.5, min_tracking_confidence=0.5) as holistic:\n",
    "    while cap.isOpened():\n",
    "        #Read Feed\n",
    "        ret, frame = cap.read() \n",
    "\n",
    "        #Detections\n",
    "        image, results = mediapipe_detection(frame, holistic)\n",
    "        print(results)\n",
    "\n",
    "        #Landmarks\n",
    "        draw_styled_landmarks(image, results)\n",
    "\n",
    "        print(\"📸 Frame OK\")\n",
    "        \n",
    "        #Display\n",
    "        cv2.imshow('OpenCV Feed', image)\n",
    "\n",
    "        #Break\n",
    "        if cv2.waitKey(10) & 0xFF == ord('q'): #Q key break\n",
    "            break\n",
    "    cap.release()\n",
    "    cv2.destroyAllWindows()"
   ]
  },
  {
   "cell_type": "code",
   "execution_count": null,
   "id": "a7cb73df-2f47-4a28-bcae-2083cf1ba187",
   "metadata": {},
   "outputs": [],
   "source": [
    "cap = cv2.VideoCapture(0)\n",
    "with mp_holistic.Holistic(min_detection_confidence=0.5, min_tracking_confidence=0.5) as holistic:\n",
    "\n",
    "    # Loop through actions\n",
    "    for action in actions:\n",
    "        # Loop through sequences (videos)\n",
    "        for sequence in range(no_sequences):\n",
    "            # Loop through video frames\n",
    "            for frame_num in range(sequence_length):\n",
    "                \n",
    "                # Read Feed\n",
    "                ret, frame = cap.read() \n",
    "        \n",
    "                # Detections\n",
    "                image, results = mediapipe_detection(frame, holistic)\n",
    "                print(results)\n",
    "        \n",
    "                # Landmarks\n",
    "                draw_styled_landmarks(image, results)\n",
    "\n",
    "                # Wait Logic\n",
    "                if frame_num == 0:\n",
    "                    cv2.putText(image, 'STARTING COLLECTION', (120, 200),\n",
    "                                cv2.FONT_HERSHEY_SIMPLEX, 1, (0, 255, 0), 4, cv2.LINE_AA)\n",
    "                    cv2.putText(image, f'Collection frame for {action} Video Number {sequence}', (15, 12),\n",
    "                                cv2.FONT_HERSHEY_SIMPLEX, 0.5, (0, 0, 255), 1, cv2.LINE_AA)\n",
    "                    cv2.waitKey(2000)\n",
    "                else:\n",
    "                    cv2.putText(image, f'Collection frame for {action} Video Number {sequence}', (15, 12),\n",
    "                                cv2.FONT_HERSHEY_SIMPLEX, 0.5, (0, 0, 255), 1, cv2.LINE_AA)\n",
    "\n",
    "                # Display\n",
    "                cv2.imshow('OpenCV Feed', image)\n",
    "\n",
    "                # Save keypoints to .npy file\n",
    "                keypoints = extract_keypoints(results)\n",
    "                npy_path = os.path.join(DATA_PATH, action, str(sequence), str(frame_num))\n",
    "                np.save(npy_path, keypoints)\n",
    "                \n",
    "                # Break\n",
    "                if cv2.waitKey(10) & 0xFF == ord('q'):  # Q key break\n",
    "                    break\n",
    "\n",
    "# Release resources\n",
    "cap.release()\n",
    "cv2.destroyAllWindows()\n"
   ]
  },
  {
   "cell_type": "code",
   "execution_count": null,
   "id": "f22f367d-2658-4e39-89d0-34c58cf6004d",
   "metadata": {},
   "outputs": [],
   "source": [
    "cap.release()\n",
    "cv2.destroyAllWindows()"
   ]
  },
  {
   "cell_type": "code",
   "execution_count": null,
   "id": "6e0e5379-4d2b-4b29-8052-d6900818e6f4",
   "metadata": {},
   "outputs": [],
   "source": []
  }
 ],
 "metadata": {
  "kernelspec": {
   "display_name": "Python (ml-latest-env)",
   "language": "python",
   "name": "ml-latest-env"
  },
  "language_info": {
   "codemirror_mode": {
    "name": "ipython",
    "version": 3
   },
   "file_extension": ".py",
   "mimetype": "text/x-python",
   "name": "python",
   "nbconvert_exporter": "python",
   "pygments_lexer": "ipython3",
   "version": "3.11.13"
  }
 },
 "nbformat": 4,
 "nbformat_minor": 5
}
